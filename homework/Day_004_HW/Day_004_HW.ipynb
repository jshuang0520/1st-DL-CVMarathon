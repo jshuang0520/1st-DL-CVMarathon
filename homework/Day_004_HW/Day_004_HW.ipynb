{
 "cells": [
  {
   "cell_type": "markdown",
   "metadata": {},
   "source": [
    "### 水平與垂直翻轉其實只是 xy 軸順序顛倒\n",
    "\n",
    "    > list(<start>:<end>:<step>)\n",
    "\n",
    "可以參考 Python 的 range 代表從 start 到 end 每次走 step 步 \n",
    "\n",
    "    > range(start, stop, step)\n",
    "\n",
    "[參考來源：w3schools](https://www.w3schools.com/python/ref_func_range.asp)\n",
    "\n",
    "\n",
    "          h   w  c\n",
    "    > img[::-1, :, :] # 垂直翻轉\n",
    "          y   x\n",
    "          \n",
    "    > ::-1代表從 end 走到 start (倒序) 同樣的方式對 x 軸處理就會變成水平翻轉\n",
    "          "
   ]
  },
  {
   "cell_type": "markdown",
   "metadata": {},
   "source": [
    "### 縮放操作 (Scale) - 雙線性插補\n",
    "\n",
    "連結好像怪怪的"
   ]
  },
  {
   "cell_type": "markdown",
   "metadata": {},
   "source": [
    "### 平移操作 (Translation Transformation)\n",
    "\n",
    "[【DAY28】transform的matrix屬性](https://ithelp.ithome.com.tw/articles/10197360)"
   ]
  },
  {
   "cell_type": "markdown",
   "metadata": {},
   "source": [
    "## 範例\n",
    "實作本篇提到的三大概念\n",
    "\n",
    "1. 翻轉：實作上下翻轉\n",
    "\n",
    "1. 縮放：實作鄰近差值\n",
    "\n",
    "1. 平移：建立 Translation Transformation Matrix 來做平移"
   ]
  },
  {
   "cell_type": "code",
   "execution_count": 1,
   "metadata": {},
   "outputs": [],
   "source": [
    "import cv2\n",
    "import time\n",
    "import numpy as np\n",
    "\n",
    "img_path = '../Day_001_HW/lena.png'\n",
    "img = cv2.imread(img_path)"
   ]
  },
  {
   "cell_type": "markdown",
   "metadata": {},
   "source": [
    "## 上下翻轉圖片"
   ]
  },
  {
   "cell_type": "code",
   "execution_count": 2,
   "metadata": {},
   "outputs": [],
   "source": [
    "# 垂直翻轉 (vertical)\n",
    "img_vflip = img[::-1, :, :]\n",
    "\n",
    "# 組合 + 顯示圖片\n",
    "hflip = np.vstack((img, img_vflip))\n",
    "while True:\n",
    "    cv2.imshow('flip image', hflip)\n",
    "    k = cv2.waitKey(0)\n",
    "    if k == 27:\n",
    "        cv2.destroyAllWindows()\n",
    "        break"
   ]
  },
  {
   "cell_type": "markdown",
   "metadata": {},
   "source": [
    "## 縮放圖片\n",
    "\n",
    "## 放大\n",
    "我們先透過縮小圖片去壓縮原有圖片保有的資訊，再放大比較不同方法之間的速度與圖片品質"
   ]
  },
  {
   "cell_type": "code",
   "execution_count": 3,
   "metadata": {},
   "outputs": [
    {
     "name": "stdout",
     "output_type": "stream",
     "text": [
      "INTER_NEAREST zoom cost 0.0009970664978027344\n"
     ]
    }
   ],
   "source": [
    "# 將圖片縮小成原本的 20%\n",
    "img_test = cv2.resize(img, None, fx=0.2, fy=0.2)\n",
    "\n",
    "# 將圖片放大為\"小圖片\"的 8 倍大 = 原圖的 1.6 倍大\n",
    "fx, fy = 8, 8\n",
    "\n",
    "# 鄰近差值 scale + 計算花費時間\n",
    "start_time = time.time()\n",
    "img_area_scale = cv2.resize(img_test, None, fx=fx, fy=fy, interpolation=cv2.INTER_NEAREST)\n",
    "print('INTER_NEAREST zoom cost {}'.format(time.time() - start_time))\n",
    "\n",
    "# 組合 + 顯示圖片\n",
    "orig_img = cv2.resize(img, img_area_scale.shape[:2])\n",
    "img_zoom = np.hstack((orig_img, img_area_scale))\n",
    "while True:\n",
    "    cv2.imshow('zoom image', img_zoom)\n",
    "    k = cv2.waitKey(0)\n",
    "    if k == 27:\n",
    "        cv2.destroyAllWindows()\n",
    "        break"
   ]
  },
  {
   "cell_type": "markdown",
   "metadata": {},
   "source": [
    "## 平移幾何轉換"
   ]
  },
  {
   "cell_type": "code",
   "execution_count": 4,
   "metadata": {},
   "outputs": [],
   "source": [
    "# 設定 translation transformation matrix\n",
    "# x 平移 100 pixel; y 平移 50 pixel\n",
    "M = np.array([[1, 0, 100],\n",
    "              [0, 1, 50]], dtype=np.float32)\n",
    "shift_img = cv2.warpAffine(img, M, (img.shape[1], img.shape[0]))\n",
    "\n",
    "# 組合 + 顯示圖片\n",
    "img_shift = np.hstack((img, shift_img))\n",
    "while True:\n",
    "    cv2.imshow('shift image', img_shift)\n",
    "    k = cv2.waitKey(0)\n",
    "    if k == 27:\n",
    "        cv2.destroyAllWindows()\n",
    "        break"
   ]
  },
  {
   "cell_type": "markdown",
   "metadata": {},
   "source": [
    "## 作業\n",
    "實作本篇提到的三大概念\n",
    "\n",
    "1. 翻轉：實作上下左右的翻轉\n",
    "\n",
    "2. 縮放：比較鄰近差值與雙立方插值 (或雙線性插值) 的圖片品質\n",
    "\n",
    "3. 平移：建立 Translation Transformation Matrix 來做平移"
   ]
  },
  {
   "cell_type": "code",
   "execution_count": 5,
   "metadata": {},
   "outputs": [],
   "source": [
    "import cv2\n",
    "import time\n",
    "import numpy as np\n",
    "\n",
    "img_path = '../Day_001_HW/lena.png'\n",
    "img = cv2.imread(img_path)"
   ]
  },
  {
   "cell_type": "markdown",
   "metadata": {},
   "source": [
    "## 上下左右翻轉圖片"
   ]
  },
  {
   "cell_type": "code",
   "execution_count": 6,
   "metadata": {},
   "outputs": [],
   "source": [
    "# 水平翻轉 (horizontal)\n",
    "img_hflip = img[:, ::-1, :]\n",
    "\n",
    "# 垂直翻轉 (vertical)\n",
    "img_vflip = img[::-1, :, :]\n",
    "\n",
    "# 水平 + 垂直翻轉\n",
    "img_hvflip = img[::-1, ::-1, :]\n",
    "\n",
    "# 組合 + 顯示圖片\n",
    "hflip = np.hstack((img, img_hflip))\n",
    "vflip = np.hstack((img_vflip, img_hvflip))\n",
    "img_flip = np.vstack((hflip, vflip))\n",
    "while True:\n",
    "    cv2.imshow('flip image', img_flip)\n",
    "    k = cv2.waitKey(0)\n",
    "    if k == 27:\n",
    "        cv2.destroyAllWindows()\n",
    "        break"
   ]
  },
  {
   "cell_type": "markdown",
   "metadata": {},
   "source": [
    "## 縮放圖片\n",
    "\n",
    "## 放大\n",
    "我們先透過縮小圖片去壓縮原有圖片保有的資訊，再放大比較不同方法之間的速度與圖片品質"
   ]
  },
  {
   "cell_type": "code",
   "execution_count": 7,
   "metadata": {},
   "outputs": [
    {
     "name": "stdout",
     "output_type": "stream",
     "text": [
      "INTER_NEAREST zoom cost 0.000997304916381836\n",
      "INTER_CUBIC zoom cost 0.001993894577026367\n"
     ]
    }
   ],
   "source": [
    "# 將圖片縮小成原本的 20%\n",
    "img_test = cv2.resize(img, None, fx=0.2, fy=0.2)\n",
    "\n",
    "# 將圖片放大為\"小圖片\"的 8 倍大 = 原圖的 1.6 倍大\n",
    "fx, fy = 8, 8\n",
    "\n",
    "# 鄰近差值 scale + 計算花費時間\n",
    "start_time = time.time()\n",
    "img_area_scale = cv2.resize(img_test, None, fx=fx, fy=fy, interpolation=cv2.INTER_NEAREST)\n",
    "print('INTER_NEAREST zoom cost {}'.format(time.time() - start_time))\n",
    "\n",
    "# 雙立方差補 scale + 計算花費時間 \n",
    "start_time = time.time()\n",
    "img_cubic_scale = cv2.resize(img_test, None, fx=fx, fy=fy, interpolation=cv2.INTER_CUBIC)\n",
    "print('INTER_CUBIC zoom cost {}'.format(time.time() - start_time))\n",
    "\n",
    "# 組合 + 顯示圖片\n",
    "img_zoom = np.hstack((img_area_scale, img_cubic_scale))\n",
    "while True:\n",
    "    cv2.imshow('zoom image', img_zoom)\n",
    "    k = cv2.waitKey(0)\n",
    "    if k == 27:\n",
    "        cv2.destroyAllWindows()\n",
    "        break"
   ]
  },
  {
   "cell_type": "markdown",
   "metadata": {},
   "source": [
    "## 平移幾何轉換"
   ]
  },
  {
   "cell_type": "code",
   "execution_count": 8,
   "metadata": {},
   "outputs": [],
   "source": [
    "# 設定 translation transformation matrix\n",
    "# x 平移 50 pixel; y 平移 100 pixel\n",
    "M = np.array([[1, 0, 50],\n",
    "              [0, 1, 100]], dtype=np.float32)\n",
    "shift_img = cv2.warpAffine(img, M, (img.shape[1], img.shape[0]))\n",
    "\n",
    "# 組合 + 顯示圖片\n",
    "img_shift = np.hstack((img, shift_img))\n",
    "while True:\n",
    "    cv2.imshow('shift image', img_shift)\n",
    "    k = cv2.waitKey(0)\n",
    "    if k == 27:\n",
    "        cv2.destroyAllWindows()\n",
    "        break"
   ]
  },
  {
   "cell_type": "code",
   "execution_count": null,
   "metadata": {},
   "outputs": [],
   "source": []
  },
  {
   "cell_type": "markdown",
   "metadata": {},
   "source": [
    "## 延伸閱讀"
   ]
  },
  {
   "cell_type": "markdown",
   "metadata": {},
   "source": [
    "## [插值演算法 (interpolation)](http://www.csie.ntnu.edu.tw/~u91029/Interpolation.html)\n",
    "\n",
    "參考網頁中的 Piecewise Polynomial Interpolation 可以了解在縮放過程中其他插值的詳細數學方式以及比較，但相對的比較不好理解 (optional)\n",
    "\n",
    "--\n",
    "\n",
    "> 「內插」就是找一個函數，完全符合手邊的一堆函數點。此函數稱作「內插函數」。換句話說，找到一個函數，穿過所有給定的函數點。外觀就像是在相鄰的函數點之間，插滿函數點，因而得名「內插」。\n",
    "\n",
    "![img](http://www.csie.ntnu.edu.tw/~u91029/Interpolation1.png)\n",
    "\n"
   ]
  },
  {
   "attachments": {},
   "cell_type": "markdown",
   "metadata": {},
   "source": [
    "## [Transformation Matrix 數學 (wiki)](https://en.wikipedia.org/wiki/Transformation_matrix)\n",
    "\n",
    "對於數學有興趣的同學可以再進一步看文件學習，wiki 上面列了更多種在齊次座標 (Homogenious coordinate) 中使用的 Transformation Matrix\n",
    "\n",
    "--\n",
    "\n",
    "![img1](https://upload.wikimedia.org/wikipedia/commons/thumb/2/2c/2D_affine_transformation_matrix.svg/800px-2D_affine_transformation_matrix.svg.png)\n",
    "\n",
    "-\n",
    "\n",
    "File:Affine transformations動畫 : https://en.wikipedia.org/wiki/File:Affine_transformations.ogv\n",
    "\n",
    "-\n",
    "\n",
    "![img3](https://upload.wikimedia.org/wikipedia/commons/thumb/a/ab/Perspective_transformation_matrix_2D.svg/1024px-Perspective_transformation_matrix_2D.svg.png)"
   ]
  },
  {
   "cell_type": "code",
   "execution_count": null,
   "metadata": {},
   "outputs": [],
   "source": []
  }
 ],
 "metadata": {
  "kernelspec": {
   "display_name": "Python 3",
   "language": "python",
   "name": "python3"
  },
  "language_info": {
   "codemirror_mode": {
    "name": "ipython",
    "version": 3
   },
   "file_extension": ".py",
   "mimetype": "text/x-python",
   "name": "python",
   "nbconvert_exporter": "python",
   "pygments_lexer": "ipython3",
   "version": "3.6.5"
  }
 },
 "nbformat": 4,
 "nbformat_minor": 2
}
