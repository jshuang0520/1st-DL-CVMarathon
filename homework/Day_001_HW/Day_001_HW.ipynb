{
 "cells": [
  {
   "cell_type": "markdown",
   "metadata": {},
   "source": [
    "## Sample Code & 作業內容\n",
    "\n",
    "\n",
    "參考這次的進度，安裝好 OpenCV 之後分別顯示同一張圖片但個別是彩色 RGB 格式跟灰階 Grayscale 格式的圖\n",
    "\n",
    "可以選擇電腦中任意圖片（建議選擇 .jpg, .jpeg, .png)\n",
    "\n",
    "或是電腦視覺領域中知名的 [Lena](http://optipng.sourceforge.net/pngtech/img/lena.png) 圖皆可"
   ]
  },
  {
   "cell_type": "code",
   "execution_count": null,
   "metadata": {},
   "outputs": [],
   "source": []
  },
  {
   "cell_type": "markdown",
   "metadata": {},
   "source": [
    "## 範例\n",
    "\n",
    "使用 Lena\n",
    "\n",
    "1. 以彩色圖片顯示\n",
    "\n",
    "2. 以灰階圖片顯示"
   ]
  },
  {
   "cell_type": "code",
   "execution_count": 1,
   "metadata": {},
   "outputs": [],
   "source": [
    "import cv2\n",
    "\n",
    "img_path = './lena.png'\n",
    "\n",
    "# 以彩色圖片的方式載入\n",
    "img = cv2.imread(img_path, cv2.IMREAD_COLOR)\n",
    "\n",
    "# 以灰階圖片的方式載入\n",
    "img_gray = cv2.imread(img_path, cv2.IMREAD_GRAYSCALE)\n",
    "\n",
    "# 為了要不斷顯示圖片，所以使用一個迴圈\n",
    "while True:\n",
    "    # 顯示彩圖\n",
    "    cv2.imshow('bgr', img)\n",
    "    # 顯示灰圖\n",
    "    cv2.imshow('gray', img_gray)\n",
    "\n",
    "    # 直到按下 ESC 鍵才會自動關閉視窗結束程式\n",
    "    k = cv2.waitKey(0)\n",
    "    if k == 27:\n",
    "        cv2.destroyAllWindows()\n",
    "        break"
   ]
  },
  {
   "cell_type": "code",
   "execution_count": null,
   "metadata": {},
   "outputs": [],
   "source": []
  },
  {
   "cell_type": "markdown",
   "metadata": {},
   "source": [
    "## 作業\n",
    "\n",
    "思考一下我們前面有提到圖片是矩陣，但維度可能會不一樣 例如灰階圖只有兩個維度，RGB 彩圖則有 3 個維度\n",
    "\n",
    "假如今天我們把 RGB 3 個維度拆開來看會有甚麼不同的效果呢？\n",
    "\n",
    "> 將三個維度拆開 : 分別得到 B,G,R 三個 channel 的 array"
   ]
  },
  {
   "cell_type": "markdown",
   "metadata": {},
   "source": [
    "## [OpenCV](https://docs.opencv.org/master/d3/df2/tutorial_py_basic_ops.html)\n",
    "\n",
    "### Splitting and Merging Image Channels\n",
    "\n",
    "Sometimes you will need to work separately on the B,G,R channels of an image. In this case, you need to split the BGR image into single channels. In other cases, you may need to join these individual channels to create a BGR image. You can do this simply by:\n",
    "\n",
    "    b,g,r = cv2.split(img)\n",
    "    img = cv2.merge((b,g,r))\n",
    "    \n",
    "    Or\n",
    "\n",
    "    b = img[:,:,0]\n",
    "\n"
   ]
  },
  {
   "cell_type": "code",
   "execution_count": 2,
   "metadata": {},
   "outputs": [],
   "source": [
    "import cv2\n",
    "import numpy as np\n",
    "\n",
    "img_path = './lena.png'\n",
    "\n",
    "# 以彩色圖片的方式載入\n",
    "img = cv2.imread(img_path, cv2.IMREAD_COLOR)\n",
    "\n",
    "# 把圖片合併起來方便一起看\n",
    "img_concat = np.hstack((img[:, :, 0], img[:, :, 1], img[:, :, 2]))\n",
    "\n",
    "\n",
    "b,g,r = cv2.split(img)\n",
    "\n",
    "# 為了要不斷顯示圖片，所以使用一個迴圈\n",
    "while True:\n",
    "    # 顯示彩圖\n",
    "    cv2.imshow('bgr', img)\n",
    "    cv2.imshow('bgr_split', img_concat)\n",
    "    \n",
    "\n",
    "    cv2.imshow('b', b)\n",
    "    cv2.imshow('g', g)\n",
    "    cv2.imshow('r', r)\n",
    "\n",
    "    # 直到按下 ESC 鍵才會自動關閉視窗結束程式\n",
    "    k = cv2.waitKey(0)\n",
    "    if k == 27:\n",
    "        cv2.destroyAllWindows()\n",
    "        break"
   ]
  },
  {
   "cell_type": "code",
   "execution_count": 3,
   "metadata": {},
   "outputs": [
    {
     "data": {
      "text/plain": [
       "array([[125, 125, 133, ..., 122, 110,  90],\n",
       "       [125, 125, 133, ..., 122, 110,  90],\n",
       "       [125, 125, 133, ..., 122, 110,  90],\n",
       "       ...,\n",
       "       [ 60,  60,  58, ...,  84,  76,  79],\n",
       "       [ 57,  57,  62, ...,  79,  81,  81],\n",
       "       [ 57,  57,  62, ...,  79,  81,  81]], dtype=uint8)"
      ]
     },
     "execution_count": 3,
     "metadata": {},
     "output_type": "execute_result"
    }
   ],
   "source": [
    "img[:, :, 0]"
   ]
  },
  {
   "cell_type": "code",
   "execution_count": 4,
   "metadata": {},
   "outputs": [
    {
     "data": {
      "text/plain": [
       "array([[137, 137, 137, ..., 148, 130,  99],\n",
       "       [137, 137, 137, ..., 148, 130,  99],\n",
       "       [137, 137, 137, ..., 148, 130,  99],\n",
       "       ...,\n",
       "       [ 18,  18,  27, ...,  73,  68,  62],\n",
       "       [ 22,  22,  32, ...,  70,  71,  74],\n",
       "       [ 22,  22,  32, ...,  70,  71,  74]], dtype=uint8)"
      ]
     },
     "execution_count": 4,
     "metadata": {},
     "output_type": "execute_result"
    }
   ],
   "source": [
    "img[:, :, 1]"
   ]
  },
  {
   "cell_type": "code",
   "execution_count": 5,
   "metadata": {},
   "outputs": [
    {
     "data": {
      "text/plain": [
       "array([[226, 226, 223, ..., 230, 221, 200],\n",
       "       [226, 226, 223, ..., 230, 221, 200],\n",
       "       [226, 226, 223, ..., 230, 221, 200],\n",
       "       ...,\n",
       "       [ 84,  84,  92, ..., 173, 172, 177],\n",
       "       [ 82,  82,  96, ..., 179, 181, 185],\n",
       "       [ 82,  82,  96, ..., 179, 181, 185]], dtype=uint8)"
      ]
     },
     "execution_count": 5,
     "metadata": {},
     "output_type": "execute_result"
    }
   ],
   "source": [
    "img[:, :, 2]"
   ]
  },
  {
   "cell_type": "code",
   "execution_count": null,
   "metadata": {},
   "outputs": [],
   "source": []
  }
 ],
 "metadata": {
  "kernelspec": {
   "display_name": "Python 3",
   "language": "python",
   "name": "python3"
  },
  "language_info": {
   "codemirror_mode": {
    "name": "ipython",
    "version": 3
   },
   "file_extension": ".py",
   "mimetype": "text/x-python",
   "name": "python",
   "nbconvert_exporter": "python",
   "pygments_lexer": "ipython3",
   "version": "3.6.5"
  }
 },
 "nbformat": 4,
 "nbformat_minor": 2
}
